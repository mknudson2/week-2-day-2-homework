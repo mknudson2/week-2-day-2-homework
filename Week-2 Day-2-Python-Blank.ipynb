{
 "cells": [
  {
   "cell_type": "markdown",
   "metadata": {},
   "source": [
    "# Functions, Scoping, Data Collections 1 & List Comprehensions"
   ]
  },
  {
   "cell_type": "markdown",
   "metadata": {},
   "source": [
    "## Tasks Today:\n",
    "\n",
    "<i>Monday Additions (or, and ... if statements)</i>\n",
    "\n",
    "1) String Manipulation <br>\n",
    " &nbsp;&nbsp;&nbsp;&nbsp; a) strip() <br>\n",
    " &nbsp;&nbsp;&nbsp;&nbsp; b) title() <br>\n",
    "2) Working With Lists <br>\n",
    " &nbsp;&nbsp;&nbsp;&nbsp; a) min() <br>\n",
    " &nbsp;&nbsp;&nbsp;&nbsp; b) max() <br>\n",
    " &nbsp;&nbsp;&nbsp;&nbsp; c) sum() <br>\n",
    " &nbsp;&nbsp;&nbsp;&nbsp; d) sort() <br>\n",
    " &nbsp;&nbsp;&nbsp;&nbsp; e) Copying a List <br>\n",
    " &nbsp;&nbsp;&nbsp;&nbsp; f) 'in' keyword <br>\n",
    " &nbsp;&nbsp;&nbsp;&nbsp; g) 'not in' keyword <br>\n",
    " &nbsp;&nbsp;&nbsp;&nbsp; i) Checking an Empty List <br>\n",
    " &nbsp;&nbsp;&nbsp;&nbsp; j) Removing Instances with a Loop <br>\n",
    "3) List Comprehensions <br>\n",
    "4) Tuples <br>\n",
    " &nbsp;&nbsp;&nbsp;&nbsp; a) sorted() <br>\n",
    "5) Functions <br>\n",
    " &nbsp;&nbsp;&nbsp;&nbsp; a) User-Defined vs. Built-In Functions <br>\n",
    " &nbsp;&nbsp;&nbsp;&nbsp; b) Accepting Parameters <br>\n",
    " &nbsp;&nbsp;&nbsp;&nbsp; c) Default Parameters <br>\n",
    " &nbsp;&nbsp;&nbsp;&nbsp; d) Making an Argument Optional <br>\n",
    " &nbsp;&nbsp;&nbsp;&nbsp; e) Keyword Arguments <br>\n",
    " &nbsp;&nbsp;&nbsp;&nbsp; f) Returning Values <br>\n",
    " &nbsp;&nbsp;&nbsp;&nbsp; g) *args <br>\n",
    " &nbsp;&nbsp;&nbsp;&nbsp; h) Docstring <br>\n",
    " &nbsp;&nbsp;&nbsp;&nbsp; i) Using a User Function in a Loop <br>\n",
    "6) Scope"
   ]
  },
  {
   "cell_type": "markdown",
   "metadata": {},
   "source": [
    "### String Manipulation"
   ]
  },
  {
   "cell_type": "markdown",
   "metadata": {},
   "source": [
    "##### .lstrip()"
   ]
  },
  {
   "cell_type": "code",
   "execution_count": 6,
   "metadata": {},
   "outputs": [
    {
     "name": "stdout",
     "output_type": "stream",
     "text": [
      "abc          Olo           a\n"
     ]
    }
   ],
   "source": [
    "# string.lstrip()\n",
    "\n",
    "white_space_string='abc          Olo           a'\n",
    "\n",
    "print(white_space_string.lstrip(' '))"
   ]
  },
  {
   "cell_type": "markdown",
   "metadata": {},
   "source": [
    "##### .rstrip()"
   ]
  },
  {
   "cell_type": "code",
   "execution_count": 8,
   "metadata": {},
   "outputs": [
    {
     "name": "stdout",
     "output_type": "stream",
     "text": [
      "abc          Olo           a\n",
      "abc          Olo\n"
     ]
    }
   ],
   "source": [
    "# string.rstrip()\n",
    "\n",
    "print(white_space_string)\n",
    "\n",
    "print(white_space_string.rstrip('a  '))\n"
   ]
  },
  {
   "cell_type": "markdown",
   "metadata": {},
   "source": [
    "##### .strip()"
   ]
  },
  {
   "cell_type": "code",
   "execution_count": 9,
   "metadata": {},
   "outputs": [
    {
     "data": {
      "text/plain": [
       "'abababc'"
      ]
     },
     "execution_count": 9,
     "metadata": {},
     "output_type": "execute_result"
    }
   ],
   "source": [
    "# string.strip()\n",
    "\n",
    "'       abababc      '.strip(' ')\n",
    "\n"
   ]
  },
  {
   "cell_type": "markdown",
   "metadata": {},
   "source": [
    "##### .title()"
   ]
  },
  {
   "cell_type": "code",
   "execution_count": 16,
   "metadata": {},
   "outputs": [
    {
     "name": "stdout",
     "output_type": "stream",
     "text": [
      "Martrix Reloaded\n",
      "MARTRIX RELOADED\n",
      "martrix reloaded\n",
      "Martrix Reloaded\n",
      "martrix reloaded\n",
      "Martrix Reloaded\n"
     ]
    }
   ],
   "source": [
    "# string.title()\n",
    "\n",
    "\n",
    "matrix_string = 'martrix reloaded'\n",
    "\n",
    "print(matrix_string.title())\n",
    "\n",
    "print(matrix_string.upper())\n",
    "\n",
    "print(matrix_string)\n",
    "\n",
    "matrix_string = matrix_string.title()\n",
    "print(matrix_string)\n",
    "print(matrix_string.lower())\n",
    "print(matrix_string)"
   ]
  },
  {
   "cell_type": "markdown",
   "metadata": {},
   "source": [
    "### String Exercise <br>\n",
    "<p>Strip all white space and capitalize every name in the list given</p>"
   ]
  },
  {
   "cell_type": "code",
   "execution_count": 38,
   "metadata": {},
   "outputs": [
    {
     "name": "stdout",
     "output_type": "stream",
     "text": [
      "CoNNor\n",
      "Max\n",
      "EVan\n",
      "JORDAN\n"
     ]
    }
   ],
   "source": [
    "names = ['    coNNor', 'max', ' EVan ', 'JORDAN']\n",
    "# HINT: You will need to use a for loop for iteration\n",
    "\n",
    "# print(names)\n",
    "\n",
    "# for name in names:\n",
    "#     name = name.strip(' ')\n",
    "\n",
    "for name in names:\n",
    "    name = name.strip(' ')\n",
    "    if name[0] !=name[0].upper(): #we're indexing into the first character of each name (index 0 = first letter)\n",
    "        name = name.replace(name[0], name[0].upper())\n",
    "    print(name)\n",
    "\n"
   ]
  },
  {
   "cell_type": "markdown",
   "metadata": {},
   "source": [
    "### Working With Lists"
   ]
  },
  {
   "cell_type": "markdown",
   "metadata": {},
   "source": [
    "##### min()"
   ]
  },
  {
   "cell_type": "code",
   "execution_count": 39,
   "metadata": {},
   "outputs": [
    {
     "data": {
      "text/plain": [
       "1"
      ]
     },
     "execution_count": 39,
     "metadata": {},
     "output_type": "execute_result"
    }
   ],
   "source": [
    "# min(list)\n",
    "min([10,299,1,89])"
   ]
  },
  {
   "cell_type": "markdown",
   "metadata": {},
   "source": [
    "##### max()"
   ]
  },
  {
   "cell_type": "code",
   "execution_count": 40,
   "metadata": {},
   "outputs": [
    {
     "data": {
      "text/plain": [
       "299"
      ]
     },
     "execution_count": 40,
     "metadata": {},
     "output_type": "execute_result"
    }
   ],
   "source": [
    "# max(list)\n",
    "\n",
    "max([10,299,1,89])\n"
   ]
  },
  {
   "cell_type": "markdown",
   "metadata": {},
   "source": [
    "##### sum()"
   ]
  },
  {
   "cell_type": "code",
   "execution_count": 41,
   "metadata": {},
   "outputs": [
    {
     "data": {
      "text/plain": [
       "399"
      ]
     },
     "execution_count": 41,
     "metadata": {},
     "output_type": "execute_result"
    }
   ],
   "source": [
    "# sum(list)\n",
    "\n",
    "sum([10,299,1,89])"
   ]
  },
  {
   "cell_type": "markdown",
   "metadata": {},
   "source": [
    "##### sorted()"
   ]
  },
  {
   "cell_type": "code",
   "execution_count": 42,
   "metadata": {},
   "outputs": [
    {
     "name": "stdout",
     "output_type": "stream",
     "text": [
      "unsorted_list=[99, 1, 80, 100, 2]sorted_list=[1, 2, 80, 99, 100]\n"
     ]
    }
   ],
   "source": [
    "# sorted(list)\n",
    "#sorted will always return a list, even if we pass in other data types originally, it will be output as a list\n",
    "#since it is a list method.\n",
    "\n",
    "unsorted_list = [99,1,80,100,2]\n",
    "\n",
    "sorted_list = sorted(unsorted_list)\n",
    "\n",
    "print(f'{unsorted_list=}{sorted_list=}')"
   ]
  },
  {
   "cell_type": "markdown",
   "metadata": {},
   "source": [
    "##### .sort() <br>\n",
    "<p>Difference between sort and sorted, is that sorted doesn't change original list it returns a copy, while .sort changes the original list</p>"
   ]
  },
  {
   "cell_type": "code",
   "execution_count": 43,
   "metadata": {},
   "outputs": [
    {
     "name": "stdout",
     "output_type": "stream",
     "text": [
      "[1, 1, 2, 23, 33, 55, 88]\n"
     ]
    }
   ],
   "source": [
    "# list.sort()\n",
    "\n",
    "list_to_be_sorted = [88,23,33,55,1,2,1]\n",
    "\n",
    "list_to_be_sorted.sort()\n",
    "\n",
    "print(list_to_be_sorted)\n",
    "\n",
    "\n",
    "# use sorted when you don't want to alter original list, use .sort() when you want to alter original list"
   ]
  },
  {
   "cell_type": "code",
   "execution_count": 45,
   "metadata": {},
   "outputs": [
    {
     "name": "stdout",
     "output_type": "stream",
     "text": [
      "None\n",
      "[1, 1, 2, 5]\n"
     ]
    }
   ],
   "source": [
    "print([3,6,1].sort())\n",
    "\n",
    "print(sorted([2,1,5,1]))"
   ]
  },
  {
   "cell_type": "markdown",
   "metadata": {},
   "source": [
    "##### Copying a List"
   ]
  },
  {
   "cell_type": "code",
   "execution_count": 47,
   "metadata": {},
   "outputs": [
    {
     "name": "stdout",
     "output_type": "stream",
     "text": [
      "['michael', 'ben', 'sima', 'christian']\n",
      "['Michael', 'Ben', 'Sima', 'Christian']\n"
     ]
    }
   ],
   "source": [
    "# [:] copies a list, doesn't alter original\n",
    "\n",
    "list_dont_change = ['michael', 'ben', 'sima', 'christian']\n",
    "\n",
    "list_copy =  list_dont_change[:] #not pointing at the same list in memory, pointing to the values\n",
    "print(list_copy)\n",
    "\n",
    "for i in range(len(list_dont_change)):\n",
    "    list_dont_change[i] =  list_dont_change[i].title()\n",
    "    \n",
    "print(list_dont_change)"
   ]
  },
  {
   "cell_type": "code",
   "execution_count": 53,
   "metadata": {},
   "outputs": [
    {
     "name": "stdout",
     "output_type": "stream",
     "text": [
      "['ben', 'sima']\n",
      "['michael', 'sima']\n",
      "['christian', 'sima', 'ben', 'michael']\n",
      "['michael', 'sima']\n"
     ]
    }
   ],
   "source": [
    "#slicing (a way of grabbing a portion)\n",
    "# [starting:ending non-inclusive:step]\n",
    "\n",
    "# default for first input is 0 index, second is last index, third is 1 step (i.e., every item)\n",
    "\n",
    "print(list_copy[1:3]) #starting at index 1 and going up to, but not including, index 3.\n",
    "\n",
    "print(list_copy[::2]) #starting at the beginning and grabbing every other\n",
    "\n",
    "backwards_copy = list_copy[::-1]\n",
    "print(backwards_copy)\n",
    "\n",
    "print(backwards_copy[::-2])"
   ]
  },
  {
   "cell_type": "markdown",
   "metadata": {},
   "source": [
    "##### 'in' keyword"
   ]
  },
  {
   "cell_type": "code",
   "execution_count": 57,
   "metadata": {},
   "outputs": [
    {
     "name": "stdout",
     "output_type": "stream",
     "text": [
      "True\n",
      "['michael', 'ben', 'sima', 'christian']\n"
     ]
    }
   ],
   "source": [
    "#membership check -> returns a boolean statement (T or F)\n",
    "\n",
    "print('christian' in list_copy)\n",
    "\n",
    "if 'Christian' in list_copy:\n",
    "    list_copy.remove('Christian')\n",
    "print(list_copy)"
   ]
  },
  {
   "cell_type": "code",
   "execution_count": 60,
   "metadata": {},
   "outputs": [],
   "source": [
    "if 'ben' in list_copy:\n",
    "    ben_index = list_copy.index('ben')\n",
    "#     print(ben_index)\n",
    "    removed_student = list_copy.pop(ben_index)\n",
    "    print(f'Congrats on graduation {removed_student}! You are no longer a student')"
   ]
  },
  {
   "cell_type": "markdown",
   "metadata": {},
   "source": [
    "##### 'not in' keyword"
   ]
  },
  {
   "cell_type": "code",
   "execution_count": 62,
   "metadata": {},
   "outputs": [
    {
     "name": "stdout",
     "output_type": "stream",
     "text": [
      "miss you already\n"
     ]
    }
   ],
   "source": [
    "if 'ben' not in list_copy:\n",
    "    print('miss you already')"
   ]
  },
  {
   "cell_type": "code",
   "execution_count": null,
   "metadata": {},
   "outputs": [],
   "source": []
  },
  {
   "cell_type": "markdown",
   "metadata": {},
   "source": [
    "##### Checking an Empty List"
   ]
  },
  {
   "cell_type": "code",
   "execution_count": 63,
   "metadata": {},
   "outputs": [
    {
     "name": "stdout",
     "output_type": "stream",
     "text": [
      "list with one item\n",
      "not empty list\n"
     ]
    }
   ],
   "source": [
    "# if l_1: or if l_1 = []\n",
    "#if  <list> returns true as long as it has one element or more\n",
    "\n",
    "if []:\n",
    "    print('empty list') #returns false and will therefore not print \n",
    "\n",
    "if [1]:\n",
    "    print('list with one item') #returns true so it prints \n",
    "    \n",
    "if not []:\n",
    "    print('not empty list') #essentially, saying if empty list returns false, returns true and print\n",
    "    #i.e., if not not true, return true and print\n",
    "\n"
   ]
  },
  {
   "cell_type": "markdown",
   "metadata": {},
   "source": [
    "##### Removing Instances with a Loop"
   ]
  },
  {
   "cell_type": "code",
   "execution_count": 65,
   "metadata": {},
   "outputs": [
    {
     "name": "stdout",
     "output_type": "stream",
     "text": [
      "['ryan', 'alex', 'dylan', 'dylan', 'ryan', 'sean']\n",
      "['ryan', 'dylan', 'dylan', 'ryan', 'sean']\n",
      "Dylans win this time!\n"
     ]
    }
   ],
   "source": [
    "# while, remove\n",
    "instructors = ['ryan', 'alex', 'alex', 'dylan', 'dylan', 'ryan', 'sean']\n",
    "\n",
    "# instructors.remove('alex') #only gets rid of the first instance\n",
    "# print(instructors)\n",
    "\n",
    "\n",
    "#to fix this/catch them all, run a while loop\n",
    "while 'alex' in instructors:\n",
    "    instructors.remove('alex')\n",
    "    print(instructors)\n",
    "\n",
    "print('Dylans win this time!')\n"
   ]
  },
  {
   "cell_type": "markdown",
   "metadata": {},
   "source": [
    "### List Exercise <br>\n",
    "<p>Remove all duplicates<br><b>Extra: Create a program that will remove any duplicates from a given list</b></p>"
   ]
  },
  {
   "cell_type": "code",
   "execution_count": 71,
   "metadata": {},
   "outputs": [
    {
     "name": "stdout",
     "output_type": "stream",
     "text": [
      "['connor', 'bob', 'evan', 'max', 2, 3, 4, 'kevin']\n",
      "['connor', 'max', 'evan', 2, 3, 4, 'bob', 'kevin']\n"
     ]
    }
   ],
   "source": [
    "names = ['connor', 'connor', 'bob', 'connor', 'evan', 'max', 'evan', 2, 2, 2, 3, 3, 4, 'bob', 'kevin']\n",
    "# Hint 1: You will need an append\n",
    "# Hint 2: Using an empty list will make life easier\n",
    "\n",
    "\n",
    "#solution 1\n",
    "new_names = []\n",
    "\n",
    "for name in names: # loop through names list >> this will iterate through all iterables! \n",
    "    if name not in new_names: #if the name is not in the list new_names, identify it!\n",
    "        new_names.append(name)#if the item has been identified, append it to the list new-names\n",
    "print(new_names) #print out the list new_names once the loop has been \n",
    "\n",
    "\n",
    "\n",
    "#solution 2\n",
    "i = 0\n",
    "\n",
    "while i < len(names):\n",
    "    if names.count(names[i]) > 1:\n",
    "        names.remove(names[i])\n",
    "    else:\n",
    "        i+=1\n",
    "print(names)\n",
    "        \n"
   ]
  },
  {
   "cell_type": "markdown",
   "metadata": {},
   "source": [
    "### List Comprehensions <br>\n",
    "<p>Creating a quickly generated list to work with<br>*result*  = [*transform*    *iteration*         *filter*     ]</p>"
   ]
  },
  {
   "cell_type": "markdown",
   "metadata": {},
   "source": [
    "##### In a list comprehension we have a few pieces:\n",
    "1. The first is the counter/ variable - IN this the variable is x\n",
    "2. then we have a transform for the variable\n",
    "3. The finale part of a list comp is called the condition\n",
    "\n",
    "```python\n",
    "    [variable, transform, condition]\n",
    "```"
   ]
  },
  {
   "cell_type": "code",
   "execution_count": 75,
   "metadata": {},
   "outputs": [
    {
     "name": "stdout",
     "output_type": "stream",
     "text": [
      "[0, 1, 2, 3, 4, 5, 6, 7, 8, 9]\n",
      "[0, 1, 2, 3, 4, 5, 6, 7, 8, 9]\n",
      "[0, 1, 2, 3, 4, 5, 6, 7, 8, 9, 0, 2, 4, 6, 8]\n",
      "[0, 2, 4, 6, 8]\n"
     ]
    }
   ],
   "source": [
    "# number comprehension\n",
    "\n",
    "# With a regular for loop\n",
    "num_list = []\n",
    "\n",
    "for num in range(10):\n",
    "    num_list.append(num)\n",
    "    \n",
    "print(num_list)\n",
    "\n",
    "\n",
    "num_list2 = []\n",
    "\n",
    "num_list2 = [num for num in range(10)]\n",
    "print(num_list2)\n",
    "\n",
    "\n",
    "#with the condition \n",
    "for num in range(10):\n",
    "    if num % 2 == 0:\n",
    "        num_list.append(num)\n",
    "    \n",
    "print(num_list)\n",
    "\n",
    "#also condition, but in list comprehension\n",
    "num_list2 = [num for num in range(10) if num % 2 ==0]\n",
    "print(num_list2)\n",
    "\n",
    "# IN a list comprehension we have a few pieces:\n",
    "# The first is the counter/ variable - IN this the variable is x\n",
    "# Then we have a transform for the variable \n",
    "# The finale part of a list comp is called the condition\n",
    "#[variable, transform, condition]\n",
    "\n",
    "\n",
    "\n"
   ]
  },
  {
   "cell_type": "code",
   "execution_count": 77,
   "metadata": {},
   "outputs": [
    {
     "name": "stdout",
     "output_type": "stream",
     "text": [
      "[1, 3, 5, 7, 9]\n"
     ]
    }
   ],
   "source": [
    "odd_nums = []\n",
    "\n",
    "for num in range(10):\n",
    "    if num % 2!= 0:\n",
    "        odd_nums.append(num)\n",
    "    \n",
    "[num for num in range(10) if num % 2!= 0]\n",
    "print(odd_nums)"
   ]
  },
  {
   "cell_type": "markdown",
   "metadata": {},
   "source": [
    "There are a few benefits to using List comprehensions. The most obvious would be that we now have shorter code to work with instead of using 3+ lines of code in the for loop variant.\n",
    "\n",
    "Another is an added benefit to memory usage. Since the list's memory is allocated first before adding elements to it, we don't have to resize the list once we add elements to it.\n",
    "\n",
    "Lastly, list comprehensions are considered the \"pythonic\" way to write code by the PEP8 standards (Python Style Guide)"
   ]
  },
  {
   "cell_type": "code",
   "execution_count": 81,
   "metadata": {},
   "outputs": [
    {
     "name": "stdout",
     "output_type": "stream",
     "text": [
      "[1, 4, 9, 16, 25, 36, 49, 64, 81, 100]\n",
      "[1, 4, 9, 16, 25, 36, 49, 64, 81, 100]\n"
     ]
    }
   ],
   "source": [
    "#w/o comprehension\n",
    "squared_num = []\n",
    "\n",
    "for num in range(1,11): #includes 10, but stops at 11\n",
    "    squared_num.append(num**2)\n",
    "\n",
    "print(squared_num)\n",
    "\n",
    "\n",
    "# square number comprehension\n",
    "#print([what is being appended >> the for loop >> the condition])\n",
    "print([num**2 for num in range(1,11)])\n"
   ]
  },
  {
   "cell_type": "code",
   "execution_count": 85,
   "metadata": {},
   "outputs": [
    {
     "name": "stdout",
     "output_type": "stream",
     "text": [
      "['David', 'Mehrab', 'Sima', 'Ben', 'Ben']\n"
     ]
    }
   ],
   "source": [
    "# string comprehension\n",
    "\n",
    "student_list2 = ['david', 'mehrab', 'sima', 'ben', 'ben']\n",
    "\n",
    "[name[0].upper() + name[1:] for name in student_list2]\n",
    "\n",
    "\n",
    "#w/o list comprehension\n",
    "title_students = []\n",
    "\n",
    "for name in student_list2:\n",
    "    title_students.append(name.title())\n",
    "print(title_students)"
   ]
  },
  {
   "cell_type": "code",
   "execution_count": null,
   "metadata": {},
   "outputs": [],
   "source": []
  },
  {
   "cell_type": "code",
   "execution_count": null,
   "metadata": {},
   "outputs": [],
   "source": []
  },
  {
   "cell_type": "markdown",
   "metadata": {},
   "source": [
    "### Tuples <br>\n",
    "<p><b>Defined as an immutable list</b></p><br>Seperated by commas using parenthesis"
   ]
  },
  {
   "cell_type": "code",
   "execution_count": 90,
   "metadata": {},
   "outputs": [
    {
     "name": "stdout",
     "output_type": "stream",
     "text": [
      "True\n",
      "True\n",
      "True\n",
      "1\n",
      "4\n",
      "9\n",
      "a\n",
      "b\n"
     ]
    }
   ],
   "source": [
    "#cannot be changed \n",
    "\n",
    "first_tuple = (1,4,9,'a','b')\n",
    "\n",
    "print(isinstance(first_tuple, tuple))\n",
    "\n",
    "\n",
    "another_tuple = 1,2,4,'b','z'\n",
    "\n",
    "print(isinstance(another_tuple, tuple))\n",
    "\n",
    "\n",
    "number_tuple = 1,\n",
    "\n",
    "print(isinstance(number_tuple, tuple))\n",
    "\n",
    "\n",
    "#we can index into tuples just like lists\n",
    "first_tuple[3] #should yield 'a'\n",
    "\n",
    "\n",
    "for e in first_tuple: #we can loop through tuples\n",
    "    print(e)"
   ]
  },
  {
   "cell_type": "markdown",
   "metadata": {},
   "source": [
    "##### sorted()"
   ]
  },
  {
   "cell_type": "code",
   "execution_count": 92,
   "metadata": {},
   "outputs": [
    {
     "name": "stdout",
     "output_type": "stream",
     "text": [
      "[1, 9, 99, 100, 101]\n",
      "(1, 9, 99, 100, 101) True\n"
     ]
    }
   ],
   "source": [
    "#sorted is an out of place algorithm, meaning that we are not losing our OG list/tuple\n",
    "\n",
    "unsorted_tuple = 9,1,100,99,101\n",
    "\n",
    "sorted_list = sorted(unsorted_tuple)\n",
    "\n",
    "print(sorted_list)\n",
    "\n",
    "sorted_tuple = tuple(sorted_list) #converts a list back to a tuple\n",
    "print(sorted_tuple, isinstance(sorted_tuple, tuple))"
   ]
  },
  {
   "cell_type": "markdown",
   "metadata": {},
   "source": [
    "##### Adding values to a Tuple"
   ]
  },
  {
   "cell_type": "code",
   "execution_count": 95,
   "metadata": {},
   "outputs": [
    {
     "name": "stdout",
     "output_type": "stream",
     "text": [
      "(1, 9, 99, 100, 101, 33, 100, 24)\n",
      "(1, 9, 99, 100, 101, 99, 23, 14)\n"
     ]
    }
   ],
   "source": [
    "#creating a new tuple and concatenating it to create a new tuple with additional items\n",
    "\n",
    "sorted_tuple + (33,100,24) #not permanent\n",
    "sorted_tuple\n",
    "\n",
    "\n",
    "new_tuple = sorted_tuple + (33,100,24)\n",
    "print(new_tuple)\n",
    "\n",
    "sorted_tuple += 99,23,14 \n",
    "\n",
    "print(sorted_tuple)"
   ]
  },
  {
   "cell_type": "markdown",
   "metadata": {},
   "source": [
    "## Functions"
   ]
  },
  {
   "cell_type": "markdown",
   "metadata": {},
   "source": [
    "##### User-Defined vs. Built-In Functions"
   ]
  },
  {
   "cell_type": "code",
   "execution_count": 100,
   "metadata": {},
   "outputs": [
    {
     "name": "stdout",
     "output_type": "stream",
     "text": [
      "Hello Matrix\n"
     ]
    }
   ],
   "source": [
    "#built-in function (i.e., reusable code)\n",
    "# print()\n",
    "# len()\n",
    "# int()\n",
    "# range()\n",
    "# tuple()\n",
    "# str()\n",
    "\n",
    "\n",
    "#user-defined function\n",
    "#function needs to be written before you can call it (i.e., earlier in the code to immediately preceding)\n",
    "# def <name of function>(<optional paramenters>):\n",
    "#     <func code block>\n",
    "#     <typically a return>\n",
    "\n",
    "\n",
    "def greeting():\n",
    "    print('Hello Matrix')\n",
    "\n",
    "greeting()"
   ]
  },
  {
   "cell_type": "markdown",
   "metadata": {},
   "source": [
    "##### Accepting Parameters"
   ]
  },
  {
   "cell_type": "code",
   "execution_count": 104,
   "metadata": {},
   "outputs": [
    {
     "name": "stdout",
     "output_type": "stream",
     "text": [
      "Greetings Michael\n",
      "Greetings Christian\n",
      "Greetings David\n",
      "Greetings Mehrab\n",
      "Greetings Sima\n",
      "Greetings Ben\n",
      "Greetings Ben\n"
     ]
    }
   ],
   "source": [
    "def greetStudent(student_name):\n",
    "    print(f'Greetings {student_name.title()}')\n",
    "    \n",
    "greetStudent('michael')\n",
    "\n",
    "greetStudent('christian')\n",
    "\n",
    "student_list2 #defined above in an earlier cell\n",
    "\n",
    "for name in student_list2:\n",
    "    greetStudent(name)"
   ]
  },
  {
   "cell_type": "markdown",
   "metadata": {},
   "source": [
    "##### Default Parameters"
   ]
  },
  {
   "cell_type": "code",
   "execution_count": 106,
   "metadata": {},
   "outputs": [
    {
     "name": "stdout",
     "output_type": "stream",
     "text": [
      "Greetings, Agent James Bond\n",
      "Greetings, Agent Dylan Smith\n"
     ]
    }
   ],
   "source": [
    "def greetAgent(first_name, last_name='Bond'): #this parameter now has a default value for last_name, being 'Bond'\n",
    "    print(f'Greetings, Agent {first_name} {last_name}')\n",
    "    \n",
    "greetAgent('James')\n",
    "\n",
    "greetAgent('Dylan', 'Smith') #here we have overriden our default parameter"
   ]
  },
  {
   "cell_type": "code",
   "execution_count": 107,
   "metadata": {},
   "outputs": [
    {
     "ename": "SyntaxError",
     "evalue": "non-default argument follows default argument (3421364178.py, line 2)",
     "output_type": "error",
     "traceback": [
      "\u001b[0;36m  Cell \u001b[0;32mIn[107], line 2\u001b[0;36m\u001b[0m\n\u001b[0;31m    def greetAgent(last_name='Bond', first_name):\u001b[0m\n\u001b[0m                                     ^\u001b[0m\n\u001b[0;31mSyntaxError\u001b[0m\u001b[0;31m:\u001b[0m non-default argument follows default argument\n"
     ]
    }
   ],
   "source": [
    "#bug: default parameters come last\n",
    "def greetAgent(last_name='Bond', first_name):\n",
    "    print(f'Greetings, Agent {first_name} {last_name}')"
   ]
  },
  {
   "cell_type": "markdown",
   "metadata": {},
   "source": [
    "##### Making an Argument Optional"
   ]
  },
  {
   "cell_type": "code",
   "execution_count": 113,
   "metadata": {},
   "outputs": [
    {
     "name": "stdout",
     "output_type": "stream",
     "text": [
      "Greetings, Dylan  Smith\n",
      "Greetings, dylan lance Smith\n",
      "Greetings, dylan Smith\n"
     ]
    }
   ],
   "source": [
    "#in the example below, the middle name has been made optional\n",
    "\n",
    "def greet_full_name(first_name, middle_name='', last_name='Smith'):\n",
    "    print(f'Greetings, {first_name} {middle_name} {last_name}')\n",
    "    \n",
    "greet_full_name('Dylan')\n",
    "\n",
    "greet_full_name('dylan', 'lance')\n",
    "\n",
    "\n",
    "\n",
    "####\n",
    "\n",
    "def greet_full_name(first_name, middle_name='', last_name='Smith'):\n",
    "    print(f'Greetings, {first_name}{\" \" if middle_name else \"\" + middle_name} {last_name}')\n",
    "    \n",
    "greet_full_name('dylan')"
   ]
  },
  {
   "cell_type": "markdown",
   "metadata": {},
   "source": [
    "##### Keyword Arguments"
   ]
  },
  {
   "cell_type": "code",
   "execution_count": 114,
   "metadata": {},
   "outputs": [
    {
     "name": "stdout",
     "output_type": "stream",
     "text": [
      "Greetings, Sean Currie\n"
     ]
    }
   ],
   "source": [
    "# last_name='Max', first_name='Smith' in the function call\n",
    "\n",
    "def greet_full_name(first_name, middle_name='', last_name='Smith'):\n",
    "    print(f'Greetings, {first_name}{\" \" if middle_name else \"\" + middle_name} {last_name}')\n",
    "    \n",
    "greet_full_name(last_name='Currie', first_name='Sean') #here, the order does not matter so long as you are \n",
    "#specifying which value goes with which argument/parameter.\n",
    "\n",
    "\n",
    "# see above"
   ]
  },
  {
   "cell_type": "markdown",
   "metadata": {},
   "source": [
    "# Creating a start, stop, step function"
   ]
  },
  {
   "cell_type": "code",
   "execution_count": 117,
   "metadata": {},
   "outputs": [
    {
     "name": "stdout",
     "output_type": "stream",
     "text": [
      "[1, 2, 3, 4, 5, 6, 7, 8, 9, 10, 11, 12, 13, 14, 15, 16, 17, 18, 19]\n",
      "[1, 3, 5, 7, 9, 11, 13, 15, 17, 19]\n"
     ]
    }
   ],
   "source": [
    "def my_range(start, stop, step):\n",
    "    range_list = []\n",
    "    current_number= start\n",
    "    while current_number < stop:\n",
    "        range_list.append(current_number)\n",
    "        current_number += step\n",
    "    print(range_list)\n",
    "\n",
    "my_range(1,20,1)\n",
    "my_range(1,20,2)"
   ]
  },
  {
   "cell_type": "markdown",
   "metadata": {},
   "source": [
    "##### Returning Values"
   ]
  },
  {
   "cell_type": "code",
   "execution_count": 119,
   "metadata": {},
   "outputs": [
    {
     "name": "stdout",
     "output_type": "stream",
     "text": [
      "0\n",
      "1\n",
      "2\n",
      "3\n",
      "4\n",
      "5\n",
      "6\n",
      "7\n",
      "8\n",
      "9\n"
     ]
    }
   ],
   "source": [
    "for i in range(10):\n",
    "    print(i)"
   ]
  },
  {
   "cell_type": "code",
   "execution_count": 122,
   "metadata": {},
   "outputs": [
    {
     "data": {
      "text/plain": [
       "'your sum is 21'"
      ]
     },
     "execution_count": 122,
     "metadata": {},
     "output_type": "execute_result"
    }
   ],
   "source": [
    "def ad_numbers(num1, num2):\n",
    "    my_sum = num1 + num2\n",
    "    return my_sum\n",
    "\n",
    "def ad_numbers(num1, num2):\n",
    "    return num1 + num2\n",
    "\n",
    "f'your sum is {ad_numbers(10,11)}'"
   ]
  },
  {
   "cell_type": "markdown",
   "metadata": {},
   "source": [
    "##### *args"
   ]
  },
  {
   "cell_type": "code",
   "execution_count": null,
   "metadata": {},
   "outputs": [],
   "source": []
  },
  {
   "cell_type": "markdown",
   "metadata": {},
   "source": [
    "##### Docstring"
   ]
  },
  {
   "cell_type": "code",
   "execution_count": null,
   "metadata": {},
   "outputs": [],
   "source": []
  },
  {
   "cell_type": "markdown",
   "metadata": {},
   "source": [
    "##### Using a User Function in a Loop"
   ]
  },
  {
   "cell_type": "code",
   "execution_count": null,
   "metadata": {},
   "outputs": [],
   "source": []
  },
  {
   "cell_type": "markdown",
   "metadata": {},
   "source": [
    "## Function Exercise <br>\n",
    "<p>Write a function that loops through a list of first_names and a list of last_names, combines the two and return a list of full_names</p>"
   ]
  },
  {
   "cell_type": "code",
   "execution_count": null,
   "metadata": {},
   "outputs": [],
   "source": [
    "first_name = ['John', 'Evan', 'Jordan', 'Max']\n",
    "last_name = ['Smith', 'Smith', 'Williams', 'Bell']\n",
    "\n",
    "# Output: ['John Smith', 'Evan Smith', 'Jordan Williams', 'Max Bell']\n"
   ]
  },
  {
   "cell_type": "markdown",
   "metadata": {},
   "source": [
    "## Scope <br>\n",
    "<p>Scope refers to the ability to access variables, different types of scope include:<br>a) Global<br>b) Function (local)<br>c) Class (local)</p>"
   ]
  },
  {
   "cell_type": "code",
   "execution_count": 129,
   "metadata": {},
   "outputs": [
    {
     "data": {
      "text/plain": [
       "10"
      ]
     },
     "execution_count": 129,
     "metadata": {},
     "output_type": "execute_result"
    }
   ],
   "source": []
  },
  {
   "cell_type": "markdown",
   "metadata": {},
   "source": [
    "# Exercises"
   ]
  },
  {
   "cell_type": "markdown",
   "metadata": {},
   "source": [
    "## Exercise 1 <br>\n",
    "<p>Given a list as a parameter,write a function that returns a list of numbers that are less than ten</b></i></p><br>\n",
    "<p> For example: Say your input parameter to the function is [1,11,14,5,8,9]...Your output should [1,5,8,9]</p>"
   ]
  },
  {
   "cell_type": "code",
   "execution_count": 143,
   "metadata": {},
   "outputs": [
    {
     "data": {
      "text/plain": [
       "[1, 5, 8, 9]"
      ]
     },
     "execution_count": 143,
     "metadata": {},
     "output_type": "execute_result"
    }
   ],
   "source": [
    "# Use the following list - [1,11,14,5,8,9] #CREATE A FUNCTION! USE A RETURN, NOT PRINT\n",
    "\n",
    "list1_1 = [1,11,14,5,8,9]\n",
    "\n",
    "adjusted_list = [] #created a blank list for the new items to go into\n",
    "\n",
    "def sub_ten_list(list_info): #define my function\n",
    "    for num in list_info: #create a for loop to run through all values\n",
    "        if num < 10: #create a conditional to check each value against\n",
    "            adjusted_list.append(num) #action to take when the conditional returns true\n",
    "    return(adjusted_list) #return the new list once it has run through all the given values\n",
    "\n",
    "sub_ten_list(list1_1) #call the function and input the given parameters"
   ]
  },
  {
   "cell_type": "markdown",
   "metadata": {},
   "source": [
    "## Exercise 2 <br>\n",
    "<p>Write a function that takes in two lists and returns the two lists merged together and sorted<br>\n",
    "<b><i>Hint: You can use the .sort() method</i></b></p>"
   ]
  },
  {
   "cell_type": "code",
   "execution_count": 125,
   "metadata": {},
   "outputs": [
    {
     "data": {
      "text/plain": [
       "[1, 2, 3, 3, 4, 4, 5, 5, 6, 6, 7, 8, 10]"
      ]
     },
     "execution_count": 125,
     "metadata": {},
     "output_type": "execute_result"
    }
   ],
   "source": [
    "#CREATE A FUNCTION!\n",
    "\n",
    "list2_1 = [1,2,3,4,5,6]\n",
    "list2_2 = [3,4,5,6,7,8,10]\n",
    "\n",
    "\n",
    "def superlist(list1, list2): #set up function name with parameters\n",
    "    new_list = list1 + list2 #create variable for the combined lists\n",
    "    new_list.sort() #sort the new list that consists of the combined lists\n",
    "    return(new_list)#return the sorted combined list which has been called 'new_list'\n",
    "    \n",
    "superlist(list2_1, list2_2) #call the function and input the given parameters"
   ]
  }
 ],
 "metadata": {
  "kernelspec": {
   "display_name": "Python 3 (ipykernel)",
   "language": "python",
   "name": "python3"
  },
  "language_info": {
   "codemirror_mode": {
    "name": "ipython",
    "version": 3
   },
   "file_extension": ".py",
   "mimetype": "text/x-python",
   "name": "python",
   "nbconvert_exporter": "python",
   "pygments_lexer": "ipython3",
   "version": "3.10.9"
  }
 },
 "nbformat": 4,
 "nbformat_minor": 2
}
